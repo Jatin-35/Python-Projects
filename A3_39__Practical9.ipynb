{
 "cells": [
  {
   "cell_type": "markdown",
   "metadata": {},
   "source": [
    "Name:- Jatin Jasrotia\n",
    "\n",
    "Batch:- A3\n",
    "\n",
    "Roll No.:- 39\n",
    "\n",
    "PRACTICAL-9"
   ]
  },
  {
   "cell_type": "code",
   "execution_count": 1,
   "id": "db2836fb",
   "metadata": {},
   "outputs": [
    {
     "name": "stdout",
     "output_type": "stream",
     "text": [
      "Collecting pygame\n",
      "  Obtaining dependency information for pygame from https://files.pythonhosted.org/packages/82/61/93ae7afbd931a70510cfdf0a7bb0007540020b8d80bc1d8762ebdc46479b/pygame-2.5.2-cp311-cp311-win_amd64.whl.metadata\n",
      "  Downloading pygame-2.5.2-cp311-cp311-win_amd64.whl.metadata (13 kB)\n",
      "Downloading pygame-2.5.2-cp311-cp311-win_amd64.whl (10.8 MB)\n",
      "   ---------------------------------------- 0.0/10.8 MB ? eta -:--:--\n",
      "   - -------------------------------------- 0.4/10.8 MB 8.2 MB/s eta 0:00:02\n",
      "   --- ------------------------------------ 0.9/10.8 MB 9.8 MB/s eta 0:00:02\n",
      "   ----- ---------------------------------- 1.5/10.8 MB 10.7 MB/s eta 0:00:01\n",
      "   ------- -------------------------------- 2.1/10.8 MB 11.0 MB/s eta 0:00:01\n",
      "   --------- ------------------------------ 2.6/10.8 MB 11.2 MB/s eta 0:00:01\n",
      "   ----------- ---------------------------- 3.2/10.8 MB 11.3 MB/s eta 0:00:01\n",
      "   --------------- ------------------------ 4.1/10.8 MB 10.9 MB/s eta 0:00:01\n",
      "   ----------------- ---------------------- 4.6/10.8 MB 11.3 MB/s eta 0:00:01\n",
      "   ------------------- -------------------- 5.1/10.8 MB 11.3 MB/s eta 0:00:01\n",
      "   -------------------- ------------------- 5.6/10.8 MB 11.2 MB/s eta 0:00:01\n",
      "   ---------------------- ----------------- 6.2/10.8 MB 11.3 MB/s eta 0:00:01\n",
      "   ------------------------ --------------- 6.7/10.8 MB 11.5 MB/s eta 0:00:01\n",
      "   -------------------------- ------------- 7.2/10.8 MB 11.5 MB/s eta 0:00:01\n",
      "   ---------------------------- ----------- 7.7/10.8 MB 11.5 MB/s eta 0:00:01\n",
      "   ------------------------------- -------- 8.4/10.8 MB 11.4 MB/s eta 0:00:01\n",
      "   -------------------------------- ------- 8.9/10.8 MB 11.6 MB/s eta 0:00:01\n",
      "   ----------------------------------- ---- 9.4/10.8 MB 11.4 MB/s eta 0:00:01\n",
      "   ------------------------------------- -- 10.0/10.8 MB 11.6 MB/s eta 0:00:01\n",
      "   -------------------------------------- - 10.5/10.8 MB 11.7 MB/s eta 0:00:01\n",
      "   ---------------------------------------  10.8/10.8 MB 11.5 MB/s eta 0:00:01\n",
      "   ---------------------------------------  10.8/10.8 MB 11.5 MB/s eta 0:00:01\n",
      "   ---------------------------------------- 10.8/10.8 MB 10.7 MB/s eta 0:00:00\n",
      "Installing collected packages: pygame\n",
      "Successfully installed pygame-2.5.2\n"
     ]
    }
   ],
   "source": [
    "pip install pygame"
   ]
  },
  {
   "cell_type": "markdown",
   "id": "755f610c",
   "metadata": {},
   "source": [
    "#### Q1.Develop a Memory Game using pygame and display users score. Display 4 to 5 images at random for some small-time duration\n",
    "#### For example, display the images of different numbers. After the display of every image screen should become blank. \n",
    "#### you can define the total time for playing the game. After watching the images, ask the user to tell how many images \n",
    "#### of each number were shown and display the score accordingly. Expected answer from user:\n",
    "#### 1 is displayed 2 times\n",
    "#### 3 is displayed 2 times\n",
    "#### 2 is displayed 3 times\n",
    "#### 4 is displayed 2 times"
   ]
  },
  {
   "cell_type": "code",
   "execution_count": 1,
   "id": "87b4e5f6",
   "metadata": {},
   "outputs": [
    {
     "name": "stdout",
     "output_type": "stream",
     "text": [
      "pygame 2.5.2 (SDL 2.28.3, Python 3.11.4)\n",
      "Hello from the pygame community. https://www.pygame.org/contribute.html\n",
      "Your score: 0\n"
     ]
    }
   ],
   "source": [
    "import pygame\n",
    "import random\n",
    "import time\n",
    "IMAGE_SIZE = (200, 200) \n",
    "# Initialize Pygame\n",
    "pygame.init()\n",
    "\n",
    "# Constants\n",
    "WIDTH, HEIGHT = 800, 600\n",
    "FPS = 30\n",
    "NUM_IMAGES = 5\n",
    "DISPLAY_TIME = 2  # in seconds\n",
    "\n",
    "# Colors\n",
    "WHITE = (255, 255, 255)\n",
    "BLACK = (0, 0, 0)\n",
    "\n",
    "# Load images (replace with your image paths)\n",
    "image_paths = [\"image1.png\", \"image2.png\", \"image3.png\", \"image4.png\", \"image5.png\"]\n",
    "images = [pygame.image.load(path) for path in image_paths]\n",
    "names=[\"1\",\"2\",\"3\",\"4\",\"5\"]\n",
    "# Initialize Pygame window\n",
    "screen = pygame.display.set_mode((WIDTH, HEIGHT))\n",
    "pygame.display.set_caption(\"Memory Game\")\n",
    "clock = pygame.time.Clock()\n",
    "\n",
    "# Function to display images for a short duration\n",
    "def display_images():\n",
    "    screen.fill(WHITE)\n",
    "    pygame.display.flip()\n",
    "    \n",
    "    for _ in range(NUM_IMAGES):\n",
    "        image = random.choice(images)\n",
    "        image = pygame.transform.scale(image, IMAGE_SIZE)  # Scale the image\n",
    "        x, y = random.randint(50, WIDTH - 50 - IMAGE_SIZE[0]), random.randint(50, HEIGHT - 50 - IMAGE_SIZE[1])\n",
    "        screen.blit(image, (x, y))\n",
    "        pygame.display.flip()\n",
    "        time.sleep(DISPLAY_TIME)\n",
    "        screen.fill(WHITE)\n",
    "        pygame.display.flip()\n",
    "        time.sleep(0.5)  # pause between images\n",
    "\n",
    "# Function to get user input and check the score\n",
    "def get_user_input():\n",
    "    user_input = {}\n",
    "    font = pygame.font.Font(None, 36)\n",
    "        \n",
    "    for image in set(images):\n",
    "        user_input[image_paths[images.index(image)]] = 0\n",
    "\n",
    "    input_time = time.time() + DISPLAY_TIME * NUM_IMAGES\n",
    "    while time.time() < input_time:\n",
    "        for event in pygame.event.get():\n",
    "            if event.type == pygame.QUIT:\n",
    "                pygame.quit()\n",
    "                quit()\n",
    "\n",
    "        keys = pygame.key.get_pressed()\n",
    "        for i, image in enumerate(images):\n",
    "            if keys[pygame.K_1+i]:\n",
    "                user_input[image_paths[i]] += 1\n",
    "\n",
    "        screen.fill(BLACK)\n",
    "        text = font.render(\"Enter the count for each image:\", True, WHITE)\n",
    "        screen.blit(text, (50, 50))\n",
    "\n",
    "        for i, image in enumerate(images):\n",
    "            text = font.render(f\"{names[i]} is displayed : {user_input[image_paths[i]]}\", True, WHITE)\n",
    "            screen.blit(text, (50, 100 + 50 * i))\n",
    "\n",
    "        pygame.display.flip()\n",
    "        clock.tick(FPS)\n",
    "\n",
    "    return user_input\n",
    "\n",
    "# Main game loop\n",
    "running = True\n",
    "while running:\n",
    "    for event in pygame.event.get():\n",
    "        if event.type == pygame.QUIT:\n",
    "            running = False\n",
    "            pygame.quit()\n",
    "            break\n",
    "    if(running==False):\n",
    "        break\n",
    "    display_images()\n",
    "    user_input = get_user_input()\n",
    "\n",
    "    # Check the score\n",
    "    score = 0\n",
    "    for i, image in enumerate(images):\n",
    "        if user_input[image_paths[i]] == images.count(image):\n",
    "            score += 1\n",
    "\n",
    "    print(\"Your score:\", score)\n",
    "\n",
    "    running = False  # Modify this condition based on your game logic\n",
    "pygame.quit()"
   ]
  },
  {
   "cell_type": "markdown",
   "id": "30ae1434",
   "metadata": {},
   "source": [
    "#### Q2. Write a program to display your name in the center of window inside a rectangle. Define a widow with height,width,\n",
    "#### background color as yellow, title, icon. Set the font & font size of the name. Set appropriate background color of \n",
    "#### the rectangle where the name is displayed. Also set the font color. Move the name in up, down, left  and right"
   ]
  },
  {
   "cell_type": "code",
   "execution_count": 1,
   "id": "c7cd473b",
   "metadata": {},
   "outputs": [
    {
     "name": "stdout",
     "output_type": "stream",
     "text": [
      "pygame 2.5.2 (SDL 2.28.3, Python 3.11.4)\n",
      "Hello from the pygame community. https://www.pygame.org/contribute.html\n"
     ]
    }
   ],
   "source": [
    "import pygame \n",
    "from pygame.locals import *\n",
    "pygame.init()\n",
    "screen=pygame.display.set_mode((800,600))\n",
    "running =True\n",
    "\n",
    "pygame.display.set_caption(\"Vid Game\")\n",
    "icon=pygame.image.load(\"name.png\")\n",
    "pygame.display.set_icon(icon)\n",
    "rect1 = Rect(160, 150, 470, 250)\n",
    "font = pygame.font.Font('freesansbold.ttf', 40)\n",
    "text = font.render('Mohit Pandita', True, \"green\", \"blue\")\n",
    "\n",
    "while running:\n",
    "    for event in pygame.event.get():\n",
    "        if event.type==pygame.QUIT:\n",
    "            running=False\n",
    "            pygame.quit()\n",
    "            break\n",
    "    if(running==False):\n",
    "        break\n",
    "    screen.fill((255,255,0))\n",
    "    pygame.draw.rect(screen, (255,0,0), rect1)\n",
    "    screen.blit(text, [rect1.x/2+130,rect1.y/2+180])\n",
    "    key=pygame.key.get_pressed()\n",
    "    if key[pygame.K_LEFT]==True:\n",
    "        rect1.move_ip(-1,0)\n",
    "    if key[pygame.K_RIGHT]==True:\n",
    "        rect1.move_ip(1,0)\n",
    "    if key[pygame.K_UP]==True:\n",
    "        rect1.move_ip(0,-1)\n",
    "    if key[pygame.K_DOWN]==True:\n",
    "        rect1.move_ip(0,1)\n",
    "    pygame.display.flip()"
   ]
  },
  {
   "cell_type": "code",
   "execution_count": null,
   "id": "27123b5d",
   "metadata": {},
   "outputs": [],
   "source": []
  },
  {
   "cell_type": "code",
   "execution_count": null,
   "id": "b88d5d36",
   "metadata": {},
   "outputs": [],
   "source": []
  }
 ],
 "metadata": {
  "kernelspec": {
   "display_name": "Python 3 (ipykernel)",
   "language": "python",
   "name": "python3"
  },
  "language_info": {
   "codemirror_mode": {
    "name": "ipython",
    "version": 3
   },
   "file_extension": ".py",
   "mimetype": "text/x-python",
   "name": "python",
   "nbconvert_exporter": "python",
   "pygments_lexer": "ipython3",
   "version": "3.11.4"
  }
 },
 "nbformat": 4,
 "nbformat_minor": 5
}
